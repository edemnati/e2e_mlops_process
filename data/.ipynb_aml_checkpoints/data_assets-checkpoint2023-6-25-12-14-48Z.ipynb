{
  "cells": [
    {
      "cell_type": "code",
      "source": [
        "import mltable\r\n",
        "from mltable import MLTableHeaders, MLTableFileEncoding, DataType\r\n",
        "from azure.ai.ml import MLClient\r\n",
        "from azure.ai.ml.entities import Data\r\n",
        "from azure.ai.ml.constants import AssetTypes\r\n",
        "from azure.identity import DefaultAzureCredential\r\n"
      ],
      "outputs": [],
      "execution_count": null,
      "metadata": {}
    },
    {
      "cell_type": "code",
      "source": [
        "# create paths to the data files\r\n",
        "paths = [{\"file\": \"wasbs://data@azuremlexampledata.blob.core.windows.net/feature-store-prp/observation_data/train/*.parquet\"}]\r\n",
        "\r\n",
        "\r\n",
        "# create a table from the parquet paths\r\n",
        "tbl = mltable.from_parquet_files(paths)\r\n",
        "\r\n",
        "# table a random sample\r\n",
        "tbl = tbl.take_random_sample(probability=0.001, seed=735)\r\n",
        "\r\n",
        "# filter trips with a distance > 0\r\n",
        "tbl = tbl.filter(\"col('tripDistance') > 0\")\r\n",
        "\r\n",
        "# Drop columns\r\n",
        "tbl = tbl.drop_columns([\"puLocationId\", \"doLocationId\", \"storeAndFwdFlag\"])\r\n",
        "\r\n",
        "# ensure survived column is treated as boolean\r\n",
        "data_types = {\r\n",
        "    \"Survived\": DataType.to_bool(\r\n",
        "        true_values=[\"True\", \"true\", \"1\"], false_values=[\"False\", \"false\", \"0\"]\r\n",
        "    )\r\n",
        "}\r\n",
        "tbl = tbl.convert_column_types(data_types)\r\n",
        "\r\n",
        "# Create two new columns - year and month - where the values are taken from the path\r\n",
        "tbl = tbl.extract_columns_from_partition_format(\"/puYear={year}/puMonth={month}\")\r\n",
        "\r\n",
        "# print the first 5 records of the table as a check\r\n",
        "print(tbl.show(5))\r\n",
        "\r\n",
        "# save the data loading steps in an MLTable file\r\n",
        "mltable_folder = \"./titanic\"\r\n",
        "tbl.save(mltable_folder)\r\n",
        "\r\n",
        "# Connect to the AzureML workspace\r\n",
        "subscription_id = \"<SUBSCRIPTION_ID>\"\r\n",
        "resource_group = \"<RESOURCE_GROUP>\"\r\n",
        "workspace = \"<AML_WORKSPACE_NAME>\"\r\n",
        "\r\n",
        "ml_client = MLClient(\r\n",
        "    DefaultAzureCredential(), subscription_id, resource_group, workspace\r\n",
        ")\r\n",
        "\r\n",
        "# Define the Data asset object\r\n",
        "my_data = Data(\r\n",
        "    path=mltable_folder,\r\n",
        "    type=AssetTypes.MLTABLE,\r\n",
        "    description=\"<ADD A DESCRIPTION HERE>\",\r\n",
        "    name=\"<NAME OF DATA ASSET>\",\r\n",
        "    version=\"<SET VERSION HERE>\",\r\n",
        ")\r\n",
        "\r\n",
        "# Create the data asset in the workspace\r\n",
        "ml_client.data.create_or_update(my_data)"
      ],
      "outputs": [],
      "execution_count": null,
      "metadata": {
        "jupyter": {
          "source_hidden": false,
          "outputs_hidden": false
        },
        "nteract": {
          "transient": {
            "deleting": false
          }
        }
      }
    }
  ],
  "metadata": {
    "kernelspec": {
      "display_name": "Python 3.10 - SDK v2",
      "language": "python",
      "name": "python310-sdkv2"
    },
    "language_info": {
      "codemirror_mode": {
        "name": "ipython",
        "version": 3
      },
      "file_extension": ".py",
      "mimetype": "text/x-python",
      "name": "python",
      "nbconvert_exporter": "python",
      "pygments_lexer": "ipython3",
      "version": "3.10.6"
    },
    "microsoft": {
      "ms_spell_check": {
        "ms_spell_check_language": "en"
      }
    },
    "nteract": {
      "version": "nteract-front-end@1.0.0"
    }
  },
  "nbformat": 4,
  "nbformat_minor": 2
}