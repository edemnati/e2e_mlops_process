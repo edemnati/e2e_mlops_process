{
 "cells": [
  {
   "cell_type": "code",
   "execution_count": 1,
   "metadata": {
    "gather": {
     "logged": 1690815207798
    }
   },
   "outputs": [],
   "source": [
    "import mltable\n",
    "from mltable import MLTableHeaders, MLTableFileEncoding, DataType\n",
    "from azure.ai.ml import MLClient\n",
    "from azure.ai.ml.entities import Data\n",
    "from azure.ai.ml.constants import AssetTypes\n",
    "from azure.identity import DefaultAzureCredential\n"
   ]
  },
  {
   "cell_type": "code",
   "execution_count": null,
   "metadata": {
    "collapsed": false,
    "jupyter": {
     "outputs_hidden": false,
     "source_hidden": false
    },
    "nteract": {
     "transient": {
      "deleting": false
     }
    }
   },
   "outputs": [],
   "source": [
    "# create paths to the data files\n",
    "paths = [{\"pattern\": \"wasbs://data@azuremlexampledata.blob.core.windows.net/feature-store-prp/observation_data/train/*.parquet\"}]\n",
    "\n",
    "\n",
    "# create a table from the parquet paths\n",
    "tbl = mltable.from_parquet_files(paths)\n",
    "\n",
    "\"\"\" \n",
    "# Apply Transformations\n",
    "\n",
    "# table a random sample\n",
    "tbl = tbl.take_random_sample(probability=0.001, seed=735)\n",
    "\n",
    "# filter trips with a distance > 0\n",
    "tbl = tbl.filter(\"col('tripDistance') > 0\")\n",
    "\n",
    "# Drop columns\n",
    "tbl = tbl.drop_columns([\"puLocationId\", \"doLocationId\", \"storeAndFwdFlag\"])\n",
    "\n",
    "# ensure survived column is treated as boolean\n",
    "data_types = {\n",
    "    \"Survived\": DataType.to_bool(\n",
    "        true_values=[\"True\", \"true\", \"1\"], false_values=[\"False\", \"false\", \"0\"]\n",
    "    )\n",
    "}\n",
    "tbl = tbl.convert_column_types(data_types)\n",
    "\n",
    "# Create two new columns - year and month - where the values are taken from the path\n",
    "tbl = tbl.extract_columns_from_partition_format(\"/puYear={year}/puMonth={month}\")\n",
    "\"\"\"\n",
    "\n",
    "# print the first 5 records of the table as a check\n",
    "print(tbl.show(5))\n",
    "\n",
    "# save the data loading steps in an MLTable file\n",
    "mltable_folder = \"./fraud_train\"\n",
    "tbl.save(mltable_folder)\n",
    "\n",
    "# Connect to the AzureML workspace\n",
    "subscription_id = \"e0d7a68e-191f-4f51-83ce-d93995cd5c09\"\n",
    "resource_group = \"my_ml_tests\"\n",
    "workspace = \"<AML_WORKSPACE_NAME>\"\n",
    "\n",
    "ml_client = MLClient(\n",
    "    DefaultAzureCredential(), subscription_id, resource_group, workspace\n",
    ")\n",
    "\n",
    "# Define the Data asset object\n",
    "my_data = Data(\n",
    "    path=mltable_folder,\n",
    "    type=AssetTypes.MLTABLE,\n",
    "    description=\"Fraud Training Sample\",\n",
    "    name=\"fraud_train_ds\",\n",
    "    version=\"1\",\n",
    ")\n",
    "\n",
    "# Create the data asset in the workspace\n",
    "ml_client.data.create_or_update(my_data)"
   ]
  }
 ],
 "metadata": {
  "kernel_info": {
   "name": "python310-sdkv2"
  },
  "kernelspec": {
   "display_name": "Python 3.10 - SDK v2",
   "language": "python",
   "name": "python310-sdkv2"
  },
  "microsoft": {
   "ms_spell_check": {
    "ms_spell_check_language": "en"
   }
  },
  "nteract": {
   "version": "nteract-front-end@1.0.0"
  }
 },
 "nbformat": 4,
 "nbformat_minor": 4
}
